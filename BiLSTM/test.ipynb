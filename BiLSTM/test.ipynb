{
 "cells": [
  {
   "cell_type": "code",
   "execution_count": 1,
   "metadata": {
    "collapsed": false
   },
   "outputs": [
    {
     "name": "stderr",
     "output_type": "stream",
     "text": [
      "Using TensorFlow backend.\n"
     ]
    }
   ],
   "source": [
    "import cPickle\n",
    "import numpy\n",
    "from keras.layers import Input\n",
    "from keras.layers.embeddings import Embedding\n",
    "from keras.layers.core import Dense, Dropout\n",
    "from keras.layers.recurrent import LSTM\n",
    "from keras.layers.merge import Concatenate\n",
    "from keras.layers.wrappers import TimeDistributed\n",
    "from keras.models import Model"
   ]
  },
  {
   "cell_type": "code",
   "execution_count": 4,
   "metadata": {
    "collapsed": false
   },
   "outputs": [],
   "source": [
    "train_set, valid_set, dicts = cPickle.load(open('atis.pkl', 'rb'))\n",
    "word2id, tag2id = dicts['words2idx'], dicts['labels2idx']\n",
    "train_x, _, train_label = train_set\n",
    "val_x, _, val_label = valid_set\n",
    "\n",
    "\n",
    "train_x = [[x+1 for x in w] for w in train_x]\n",
    "train_label = [[x for x in w] for w in train_label]\n",
    "val_x = [[x+1 for x in w] for w in val_x]\n",
    "val_label = [[x for x in w] for w in val_label]\n",
    "word2id = {k:v+1 for k,v in word2id.items()}\n",
    "\n",
    "id2word  = {word2id[k]:k for k in word2id}\n",
    "id2tag = {tag2id[k]:k for k in tag2id}\n",
    "\n",
    "maxlen = 46\n",
    "n_classes = len(id2tag)\n",
    "n_vocab = len(id2word)"
   ]
  },
  {
   "cell_type": "code",
   "execution_count": 5,
   "metadata": {
    "collapsed": true
   },
   "outputs": [],
   "source": [
    "words_input = Input(shape=(maxlen,), dtype='int32', name='words_input')\n",
    "embeddings = Embedding(input_dim=n_vocab + 1, output_dim=512, input_length=maxlen, mask_zero=True)(words_input)\n",
    "embeddings = Dropout(0.5)(embeddings)\n",
    "lstm_forward = LSTM(units=128, return_sequences=True, name='LSTM_forward')(embeddings)\n",
    "lstm_forward = Dropout(0.5)(lstm_forward)\n",
    "lstm_backward = LSTM(units=128, return_sequences=True, go_backwards=True, name='LSTM_backward')(embeddings)\n",
    "lstm_backward = Dropout(0.5)(lstm_backward)\n",
    "lstm_concat = Concatenate(axis=-1, name='merge_bidirections')([lstm_forward, lstm_backward])\n",
    "slot_output = TimeDistributed(Dense(units=n_classes, activation='softmax'), name='slot_output')(lstm_concat)\n",
    "model = Model(inputs=words_input, outputs=slot_output)\n",
    "model.compile(optimizer='adam', sample_weight_mode='temporal', loss='categorical_crossentropy')"
   ]
  },
  {
   "cell_type": "code",
   "execution_count": 6,
   "metadata": {
    "collapsed": true
   },
   "outputs": [],
   "source": [
    "model.load_weights('ep=295_tagF1=0.9482frameAcc=0.8309.h5')"
   ]
  },
  {
   "cell_type": "code",
   "execution_count": 33,
   "metadata": {
    "collapsed": true
   },
   "outputs": [],
   "source": [
    "def to_vector(sentence, w2idx):\n",
    "    vec = []\n",
    "    for word in sentence.split():\n",
    "        idx = w2idx.get(word)\n",
    "        if idx == None:\n",
    "            idx = w2idx['<UNK>']\n",
    "        vec.append(idx)\n",
    "    vec = vec[:maxlen]\n",
    "    vec += [0]*(maxlen - len(vec))\n",
    "    return numpy.array(vec)"
   ]
  },
  {
   "cell_type": "code",
   "execution_count": 85,
   "metadata": {
    "collapsed": true
   },
   "outputs": [],
   "source": [
    "def getNLUpred(tag_probs, tag_mask, id2tag, threshold=0.391):\n",
    "    tag_txt = list()\n",
    "    pred_tag_ids = numpy.argmax(tag_probs, axis=-1) * tag_mask\n",
    "    for sample in pred_tag_ids:\n",
    "        line_txt = [id2tag[tag_id] for tag_id in sample if tag_id != 0]\n",
    "        tag_txt.append(' '.join(line_txt))\n",
    "    return numpy.asarray(tag_txt)"
   ]
  },
  {
   "cell_type": "code",
   "execution_count": 145,
   "metadata": {
    "collapsed": true
   },
   "outputs": [],
   "source": [
    "sentence = \"get last flight from new york to california on saturday\""
   ]
  },
  {
   "cell_type": "code",
   "execution_count": 146,
   "metadata": {
    "collapsed": false
   },
   "outputs": [],
   "source": [
    "vector = to_vector(sentence, word2id)"
   ]
  },
  {
   "cell_type": "code",
   "execution_count": 147,
   "metadata": {
    "collapsed": false
   },
   "outputs": [
    {
     "data": {
      "text/plain": [
       "array([212, 262, 194, 209, 333, 570, 503,  89, 359, 417,   0,   0,   0,\n",
       "         0,   0,   0,   0,   0,   0,   0,   0,   0,   0,   0,   0,   0,\n",
       "         0,   0,   0,   0,   0,   0,   0,   0,   0,   0,   0,   0,   0,\n",
       "         0,   0,   0,   0,   0,   0,   0])"
      ]
     },
     "execution_count": 147,
     "metadata": {},
     "output_type": "execute_result"
    }
   ],
   "source": [
    "vector"
   ]
  },
  {
   "cell_type": "code",
   "execution_count": 148,
   "metadata": {
    "collapsed": false
   },
   "outputs": [],
   "source": [
    "vector = vector[numpy.newaxis,:]"
   ]
  },
  {
   "cell_type": "code",
   "execution_count": 149,
   "metadata": {
    "collapsed": false
   },
   "outputs": [],
   "source": [
    "tag_probs = model.predict(vector, batch_size=1)"
   ]
  },
  {
   "cell_type": "code",
   "execution_count": 150,
   "metadata": {
    "collapsed": true
   },
   "outputs": [],
   "source": [
    "mask_array_dev = numpy.zeros_like(vector)\n",
    "mask_array_dev[vector != 0] = 1"
   ]
  },
  {
   "cell_type": "code",
   "execution_count": 151,
   "metadata": {
    "collapsed": false
   },
   "outputs": [],
   "source": [
    "dev_tag_pred_txt = getNLUpred(tag_probs, mask_array_dev, id2tag)"
   ]
  },
  {
   "cell_type": "code",
   "execution_count": 152,
   "metadata": {
    "collapsed": false
   },
   "outputs": [
    {
     "data": {
      "text/plain": [
       "['O B-flight_mod O O B-fromloc.city_name I-fromloc.city_name O B-toloc.state_name O B-depart_date.day_name']"
      ]
     },
     "execution_count": 152,
     "metadata": {},
     "output_type": "execute_result"
    }
   ],
   "source": [
    "list(dev_tag_pred_txt)"
   ]
  },
  {
   "cell_type": "code",
   "execution_count": null,
   "metadata": {
    "collapsed": true
   },
   "outputs": [],
   "source": []
  }
 ],
 "metadata": {
  "kernelspec": {
   "display_name": "Python 2",
   "language": "python",
   "name": "python2"
  },
  "language_info": {
   "codemirror_mode": {
    "name": "ipython",
    "version": 2
   },
   "file_extension": ".py",
   "mimetype": "text/x-python",
   "name": "python",
   "nbconvert_exporter": "python",
   "pygments_lexer": "ipython2",
   "version": "2.7.13"
  }
 },
 "nbformat": 4,
 "nbformat_minor": 2
}
